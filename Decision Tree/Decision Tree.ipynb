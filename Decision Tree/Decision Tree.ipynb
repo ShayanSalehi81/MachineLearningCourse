{
  "cells": [
    {
      "cell_type": "markdown",
      "id": "6baf2598",
      "metadata": {
        "ExecuteTime": {
          "end_time": "2022-10-22T21:06:33.084910Z",
          "start_time": "2022-10-22T21:06:33.065246Z"
        },
        "id": "6baf2598"
      },
      "source": [
        "<br><font face=\"Times New Roman\" size=5><div dir=ltr align=center>\n",
        "<font color=blue size=8>\n",
        "    Introduction to Machine Learning <br>\n",
        "<font color=red size=5>\n",
        "    Sharif University of Technology - Computer Engineering Department <br>\n",
        "    Fall 2022<br> <br>\n",
        "<font color=black size=6>\n",
        "    Homework 2: Practical - Decision Tree   \n",
        "<font color=black size=4>\n",
        "    Hamidreza Yaghoubi \n",
        "    \n",
        "<br><br>\n",
        "<font size=4>\n",
        "In this homework, we are going to implement the Classification Decision Tree. Keep in mind to complete all of the following questions and write your own codes in the TODO cells."
      ]
    },
    {
      "cell_type": "markdown",
      "id": "bd3871b7",
      "metadata": {
        "id": "bd3871b7"
      },
      "source": [
        "<font face=\"Times New Roman\" size=4><div dir=ltr>\n",
        "# Problem 2: Classification Decision Tree (100 points)\n",
        "We will implement a Classification Decision Tree from scratch in the following problem. Then we will use our model to predict malignant and benign breast cancer. For this purpose, we will use the breast_cancer.csv dataset which you can find more details about it <a href=\"https://www.kaggle.com/datasets/merishnasuwal/breast-cancer-prediction-dataset\"><font face=\"Roboto\">here</font></a>."
      ]
    },
    {
      "cell_type": "code",
      "execution_count": null,
      "id": "ccdebb27",
      "metadata": {
        "ExecuteTime": {
          "end_time": "2022-10-22T21:30:24.876526Z",
          "start_time": "2022-10-22T21:30:24.439793Z"
        },
        "id": "ccdebb27"
      },
      "outputs": [],
      "source": [
        "import pandas as pd\n",
        "import numpy as np\n",
        "from sklearn.model_selection import train_test_split\n",
        "from sklearn.metrics import accuracy_score\n",
        "from math import log\n",
        "import random"
      ]
    },
    {
      "cell_type": "markdown",
      "id": "e2307c50",
      "metadata": {
        "id": "e2307c50"
      },
      "source": [
        "<font face=\"Times New Roman\" size=4><div dir=ltr>\n",
        "## Classification Decision Tree Class (60 points)\n",
        "In this section, you only need to fill TODO parts. You can find the logic and formula in both course slides and the web, but fill it out on your own. "
      ]
    },
    {
      "cell_type": "code",
      "execution_count": null,
      "id": "618baebb",
      "metadata": {
        "ExecuteTime": {
          "end_time": "2022-10-22T21:30:25.034364Z",
          "start_time": "2022-10-22T21:30:25.021627Z"
        },
        "id": "618baebb"
      },
      "outputs": [],
      "source": [
        "class Node:\n",
        "    def __init__(self, feature=None, threshold=None, left=None, right=None, value=None):\n",
        "        self.feature = feature\n",
        "        self.threshold = threshold\n",
        "        self.left = left\n",
        "        self.right = right\n",
        "        if self.is_leaf: self.value = value\n",
        "\n",
        "    def is_leaf(self):\n",
        "        if ((self.left == None) and (self.right == None)): return True\n",
        "        else: return False"
      ]
    },
    {
      "cell_type": "code",
      "execution_count": null,
      "id": "71b3b483",
      "metadata": {
        "ExecuteTime": {
          "end_time": "2022-10-22T21:30:25.439792Z",
          "start_time": "2022-10-22T21:30:25.404649Z"
        },
        "id": "71b3b483"
      },
      "outputs": [],
      "source": [
        "class DecisionTree:\n",
        "    def __init__(self, max_depth=None, min_samples_split=2):\n",
        "        self.max_depth = max_depth\n",
        "        self.min_samples_split = min_samples_split\n",
        "        self.root = None\n",
        "\n",
        "    def is_splitting_finished(self, depth, num_class_labels, num_samples):\n",
        "        if depth > self.max_depth: return True\n",
        "        elif num_samples < self.min_samples_split: return True\n",
        "        elif num_class_labels == len(self.used_features): return True\n",
        "        else: return False\n",
        "\n",
        "    def split(self, X, y, feature, threshold):\n",
        "        mk = X[ :, dict([ [ a, b ] for b, a in enumerate(vlu) ])[ feature ] ] <= threshold\n",
        "        return X[ mk ], X[ ~mk ], y[ mk ], y[ ~mk ]\n",
        "\n",
        "    def entropy(self, y):\n",
        "        if float(np.count_nonzero(y)) == 0: return 0\n",
        "        else: \n",
        "            sum = 0\n",
        "            x = float(np.count_nonzero(y)) / float(y.size)\n",
        "            x2 = np.where(x > 0, x, 1e-15)\n",
        "            sum += np.where(x2 > 1e-14, -x2 * np.log2(x2), 0)\n",
        "            x = 1 - x \n",
        "            x3 = np.where(x > 0, x, 1e-15)\n",
        "            sum += np.where(x3 > 1e-14, -x3 * np.log2(x3), 0)\n",
        "            return sum\n",
        "\n",
        "\n",
        "    def information_gain(self, X, y, feature, threshold):\n",
        "        if X.size == 0: return 0\n",
        "        mk = X[ :, dict([ [ a, b ] for b, a in enumerate(vlu) ])[ feature ] ] <= threshold\n",
        "        result = self.entropy(y)\n",
        "        result -= (np.count_nonzero(mk) / X.size) * self.entropy(y[ mk ]) + (1 - (np.count_nonzero(mk) / X.size)) * self.entropy(y[ ~mk ])\n",
        "        return result\n",
        "\n",
        "    def best_split(self, X, y):\n",
        "        features = vlu[ np.concatenate((~self.used_features, [ False ])) ]\n",
        "        np.random.shuffle(features)\n",
        "        max, ts, fs = 0, 0, vlu[ 0 ]\n",
        "        for feature in features:\n",
        "            thresholds = np.unique(X[ :, dict([ [ a, b ] for b, a in enumerate(vlu) ])[ feature ] ])\n",
        "            for threshold in thresholds:\n",
        "                goal = self.information_gain(X, y, feature, threshold)\n",
        "                if goal > max:\n",
        "                    ts, fs = threshold, feature\n",
        "                    max = goal\n",
        "        return fs, ts, max\n",
        "\n",
        "    def build_tree(self, X, y, depth=0):\n",
        "        node = Node()\n",
        "        sum = 0\n",
        "        rd = np.round(np.sum(y) / y.size)\n",
        "        for i in range (len(self.used_features)):\n",
        "            sum += self.used_features[ i ]\n",
        "        if self.is_splitting_finished(depth, sum, len(X)):\n",
        "            node.value = rd\n",
        "            return node\n",
        "        fs, ts, ig = self.best_split(X, y)\n",
        "        X_l, X_r, y_l, y_r = self.split(X, y, fs, ts)\n",
        "        if  (y_l.size == 0) or (y_r.size == 0) or (ig <= 0):\n",
        "            node.value = rd\n",
        "            return node\n",
        "        else:\n",
        "            node.feature = fs\n",
        "            node.threshold = ts\n",
        "            self.used_features[ dict([ [ a, b ] for b, a in enumerate(vlu) ])[ fs ] ] = True\n",
        "            node.left = self.build_tree(X_l, y_l, depth + 1)\n",
        "            node.right = self.build_tree(X_r, y_r, depth + 1)\n",
        "            self.used_features[ dict([ [ a, b ] for b, a in enumerate(vlu) ])[ fs ] ] = False\n",
        "            return node\n",
        "\n",
        "    def fit(self, X, y):\n",
        "        self.used_features = np.array([ False for i in range(len(vlu) - 1) ])\n",
        "        self.root = self.build_tree(X, y)\n",
        "\n",
        "    def predict(self, X):\n",
        "        y = []\n",
        "        for i in range (len(X)):\n",
        "            y.append(0)\n",
        "        for i in range(len(X)):\n",
        "            node = self.root\n",
        "            while not node.is_leaf():\n",
        "                if X[ i, dict([ [ a, b ] for b, a in enumerate(vlu) ])[ node.feature ] ] <= node.threshold: node = node.left\n",
        "                else: node = node.right\n",
        "            y[ i ] = node.value\n",
        "        return np.array(y)"
      ]
    },
    {
      "cell_type": "markdown",
      "id": "8e2197f0",
      "metadata": {
        "id": "8e2197f0"
      },
      "source": [
        "<font face=\"Times New Roman\" size=4><div dir=ltr>\n",
        "## Data Prepration (20 points)\n",
        "In this section, you must perform a good EDA for data. Then split it into train and validation data. We will then use the validation data to find the best model hyperparameters.  "
      ]
    },
    {
      "cell_type": "code",
      "execution_count": null,
      "id": "da5a4d94",
      "metadata": {
        "ExecuteTime": {
          "end_time": "2022-10-22T21:30:26.199958Z",
          "start_time": "2022-10-22T21:30:26.192910Z"
        },
        "id": "da5a4d94"
      },
      "outputs": [],
      "source": [
        "breast_cancer_pdf = pd.read_csv(\"breast_cancer.csv\")"
      ]
    },
    {
      "cell_type": "code",
      "execution_count": null,
      "id": "27207399",
      "metadata": {
        "ExecuteTime": {
          "end_time": "2022-10-22T21:30:28.478997Z",
          "start_time": "2022-10-22T21:30:28.476044Z"
        },
        "id": "27207399"
      },
      "outputs": [],
      "source": [
        "breast_cancer_pdf.describe()\n",
        "vlu = breast_cancer_pdf.columns.values\n",
        "del dict([ [ a, b ] for b, a in enumerate(vlu) ])['diagnosis']\n",
        "data = breast_cancer_pdf.to_numpy()\n"
      ]
    },
    {
      "cell_type": "code",
      "execution_count": null,
      "id": "39ba4c34",
      "metadata": {
        "ExecuteTime": {
          "end_time": "2022-10-22T21:30:38.003703Z",
          "start_time": "2022-10-22T21:30:37.996292Z"
        },
        "id": "39ba4c34"
      },
      "outputs": [],
      "source": [
        "x = data[ :, :5 ]\n",
        "y = data[ :, 5 ]\n",
        "\n",
        "x_train, x_val, y_train, y_val = train_test_split(x, y, test_size=0.70, random_state=42)"
      ]
    },
    {
      "cell_type": "markdown",
      "id": "cefd7a92",
      "metadata": {
        "id": "cefd7a92"
      },
      "source": [
        "<font face=\"Times New Roman\" size=4><div dir=ltr>\n",
        "## Training And Tuning Hyperparameters (20 points)\n",
        "In this section, you only need to find the best hyperparameters for your model. You can test different values and permutations of hyperparameters by adding them to the lists below. Your model must have at least accuracy=0.85 on validation data."
      ]
    },
    {
      "cell_type": "code",
      "execution_count": null,
      "id": "assigned-estate",
      "metadata": {
        "ExecuteTime": {
          "end_time": "2022-10-22T21:36:15.733600Z",
          "start_time": "2022-10-22T21:36:15.730426Z"
        },
        "id": "assigned-estate"
      },
      "outputs": [],
      "source": [
        "max_depths = [2, 3, 4, 5, 6, 7, 8,]\n",
        "min_samples_splits = [1, 2, 3]"
      ]
    },
    {
      "cell_type": "code",
      "execution_count": null,
      "id": "58003410",
      "metadata": {
        "colab": {
          "base_uri": "https://localhost:8080/"
        },
        "id": "58003410",
        "outputId": "8cae33bc-e801-4233-da8e-2d120bc5b760"
      },
      "outputs": [
        {
          "output_type": "stream",
          "name": "stdout",
          "text": [
            "accuracy of training set for [min_samples_splits=1-max_depths=2] =0.7647058823529411\n",
            "accuracy of validation set for [min_samples_splits=1-max_depths=2] =0.8295739348370927\n",
            "------------------------------------------------\n",
            "accuracy of training set for [min_samples_splits=2-max_depths=2] =0.7647058823529411\n",
            "accuracy of validation set for [min_samples_splits=2-max_depths=2] =0.8295739348370927\n",
            "------------------------------------------------\n",
            "accuracy of training set for [min_samples_splits=3-max_depths=2] =0.7647058823529411\n",
            "accuracy of validation set for [min_samples_splits=3-max_depths=2] =0.8295739348370927\n",
            "------------------------------------------------\n",
            "accuracy of training set for [min_samples_splits=1-max_depths=3] =0.8\n",
            "accuracy of validation set for [min_samples_splits=1-max_depths=3] =0.8571428571428571\n",
            "------------------------------------------------\n",
            "accuracy of training set for [min_samples_splits=2-max_depths=3] =0.8\n",
            "accuracy of validation set for [min_samples_splits=2-max_depths=3] =0.8596491228070176\n",
            "------------------------------------------------\n",
            "accuracy of training set for [min_samples_splits=3-max_depths=3] =0.8\n",
            "accuracy of validation set for [min_samples_splits=3-max_depths=3] =0.8596491228070176\n",
            "------------------------------------------------\n",
            "accuracy of training set for [min_samples_splits=1-max_depths=4] =0.8\n",
            "accuracy of validation set for [min_samples_splits=1-max_depths=4] =0.8596491228070176\n",
            "------------------------------------------------\n",
            "accuracy of training set for [min_samples_splits=2-max_depths=4] =0.8\n",
            "accuracy of validation set for [min_samples_splits=2-max_depths=4] =0.8596491228070176\n",
            "------------------------------------------------\n",
            "accuracy of training set for [min_samples_splits=3-max_depths=4] =0.8\n",
            "accuracy of validation set for [min_samples_splits=3-max_depths=4] =0.8596491228070176\n",
            "------------------------------------------------\n",
            "accuracy of training set for [min_samples_splits=1-max_depths=5] =0.8\n",
            "accuracy of validation set for [min_samples_splits=1-max_depths=5] =0.8596491228070176\n",
            "------------------------------------------------\n",
            "accuracy of training set for [min_samples_splits=2-max_depths=5] =0.8\n",
            "accuracy of validation set for [min_samples_splits=2-max_depths=5] =0.8596491228070176\n",
            "------------------------------------------------\n",
            "accuracy of training set for [min_samples_splits=3-max_depths=5] =0.8\n",
            "accuracy of validation set for [min_samples_splits=3-max_depths=5] =0.8571428571428571\n",
            "------------------------------------------------\n",
            "accuracy of training set for [min_samples_splits=1-max_depths=6] =0.8\n",
            "accuracy of validation set for [min_samples_splits=1-max_depths=6] =0.8571428571428571\n",
            "------------------------------------------------\n",
            "accuracy of training set for [min_samples_splits=2-max_depths=6] =0.8\n",
            "accuracy of validation set for [min_samples_splits=2-max_depths=6] =0.8571428571428571\n",
            "------------------------------------------------\n",
            "accuracy of training set for [min_samples_splits=3-max_depths=6] =0.8\n",
            "accuracy of validation set for [min_samples_splits=3-max_depths=6] =0.8571428571428571\n",
            "------------------------------------------------\n",
            "accuracy of training set for [min_samples_splits=1-max_depths=7] =0.8\n",
            "accuracy of validation set for [min_samples_splits=1-max_depths=7] =0.8571428571428571\n",
            "------------------------------------------------\n",
            "accuracy of training set for [min_samples_splits=2-max_depths=7] =0.8\n",
            "accuracy of validation set for [min_samples_splits=2-max_depths=7] =0.8571428571428571\n",
            "------------------------------------------------\n",
            "accuracy of training set for [min_samples_splits=3-max_depths=7] =0.8\n",
            "accuracy of validation set for [min_samples_splits=3-max_depths=7] =0.8596491228070176\n",
            "------------------------------------------------\n",
            "accuracy of training set for [min_samples_splits=1-max_depths=8] =0.8\n",
            "accuracy of validation set for [min_samples_splits=1-max_depths=8] =0.8571428571428571\n",
            "------------------------------------------------\n",
            "accuracy of training set for [min_samples_splits=2-max_depths=8] =0.8\n",
            "accuracy of validation set for [min_samples_splits=2-max_depths=8] =0.8596491228070176\n",
            "------------------------------------------------\n",
            "accuracy of training set for [min_samples_splits=3-max_depths=8] =0.8\n",
            "accuracy of validation set for [min_samples_splits=3-max_depths=8] =0.8596491228070176\n",
            "------------------------------------------------\n"
          ]
        }
      ],
      "source": [
        "best_max_depth = None\n",
        "best_min_samples_split = None\n",
        "best_accuracy = 0\n",
        "best_model = None\n",
        "for max_depth in max_depths:\n",
        "    for min_samples_split in min_samples_splits:\n",
        "        clf = DecisionTree(max_depth, min_samples_split)\n",
        "        clf.fit(x_train, y_train)\n",
        "        y_val_pred = clf.predict(x_val)\n",
        "        y_train_pred = clf.predict(x_train)\n",
        "        accuracy = accuracy_score(y_val_pred, y_val)\n",
        "        train_accuracy = accuracy_score(y_train_pred, y_train)\n",
        "        print(f\"accuracy of training set for [min_samples_splits={min_samples_split}-max_depths={max_depth}] ={train_accuracy}\")\n",
        "        print(f\"accuracy of validation set for [min_samples_splits={min_samples_split}-max_depths={max_depth}] ={accuracy}\")\n",
        "        print(\"------------------------------------------------\")\n",
        "        if accuracy >= best_accuracy:\n",
        "            best_accuracy = accuracy\n",
        "            best_max_depth = max_depth\n",
        "            best_min_samples_split = min_samples_split\n",
        "            best_model = clf"
      ]
    }
  ],
  "metadata": {
    "kernelspec": {
      "display_name": "Python 3 (ipykernel)",
      "language": "python",
      "name": "python3"
    },
    "language_info": {
      "codemirror_mode": {
        "name": "ipython",
        "version": 3
      },
      "file_extension": ".py",
      "mimetype": "text/x-python",
      "name": "python",
      "nbconvert_exporter": "python",
      "pygments_lexer": "ipython3",
      "version": "3.9.7"
    },
    "toc": {
      "base_numbering": 1,
      "nav_menu": {},
      "number_sections": true,
      "sideBar": true,
      "skip_h1_title": false,
      "title_cell": "Table of Contents",
      "title_sidebar": "Contents",
      "toc_cell": false,
      "toc_position": {},
      "toc_section_display": true,
      "toc_window_display": false
    },
    "varInspector": {
      "cols": {
        "lenName": 16,
        "lenType": 16,
        "lenVar": 40
      },
      "kernels_config": {
        "python": {
          "delete_cmd_postfix": "",
          "delete_cmd_prefix": "del ",
          "library": "var_list.py",
          "varRefreshCmd": "print(var_dic_list())"
        },
        "r": {
          "delete_cmd_postfix": ") ",
          "delete_cmd_prefix": "rm(",
          "library": "var_list.r",
          "varRefreshCmd": "cat(var_dic_list()) "
        }
      },
      "types_to_exclude": [
        "module",
        "function",
        "builtin_function_or_method",
        "instance",
        "_Feature"
      ],
      "window_display": false
    },
    "colab": {
      "provenance": [],
      "collapsed_sections": []
    }
  },
  "nbformat": 4,
  "nbformat_minor": 5
}