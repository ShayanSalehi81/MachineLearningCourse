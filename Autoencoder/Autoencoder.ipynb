{
  "cells": [
    {
      "cell_type": "markdown",
      "metadata": {
        "id": "fBIOlVdLf5Xb"
      },
      "source": [
        "<img src='http://www-scf.usc.edu/~ghasemig/images/sharif.png' alt=\"SUT logo\" width=200 height=200 align=left class=\"saturate\" >\n",
        "\n",
        "<br>\n",
        "<font face=\"Times New Roman\">\n",
        "<div dir=ltr align=center>\n",
        "<font color=0F5298 size=7>\n",
        "    Introduction to Machine Learning <br>\n",
        "<font color=2565AE size=5>\n",
        "    Computer Engineering Department <br>\n",
        "    Fall 2022<br>\n",
        "<font color=3C99D size=5>\n",
        "    Homework 3: Practical - Neural Network <br>\n",
        "<font color=696880 size=4>\n",
        "    Alireza Belal\n",
        "    \n",
        "    \n",
        "____\n"
      ]
    },
    {
      "cell_type": "markdown",
      "metadata": {
        "id": "POIV0jl-f5Xg"
      },
      "source": [
        "### Full Name : Shayan Salehi\n",
        "### Student Number : 99105561\n",
        "___"
      ]
    },
    {
      "cell_type": "markdown",
      "metadata": {
        "id": "WkoHZh4Af5Xj"
      },
      "source": [
        "# Setup"
      ]
    },
    {
      "cell_type": "markdown",
      "metadata": {
        "id": "Lud9Ynzqf5Xk"
      },
      "source": [
        "# 0. Preparation\n",
        "\n",
        "In this part, you will use a dataset related to COVID-19. Load your dataset using pandas."
      ]
    },
    {
      "cell_type": "code",
      "execution_count": 1,
      "metadata": {
        "id": "PBLyacV1f5Xl"
      },
      "outputs": [],
      "source": [
        "import pandas as pd\n",
        "from sklearn.preprocessing import LabelEncoder\n",
        "covid_data = pd.read_csv('Covid Dataset.csv')\n",
        "categorical_feature_mask = covid_data.dtypes == object\n",
        "cateforical_cols = covid_data.columns[categorical_feature_mask].tolist()\n",
        "le = LabelEncoder()\n",
        "covid_data[cateforical_cols] = covid_data[cateforical_cols].apply(lambda col: le.fit_transform(col))\n",
        "covid_data = covid_data.astype(float)\n",
        "\n",
        "# Extract X and Y from the dataset\n",
        "X_total = covid_data.iloc[:, 0:20].values\n",
        "y_total = covid_data.iloc[:,20].values\n",
        "\n",
        "\n",
        "#SPLIT THE DATA INTO TRAIN AND TEST DATA \n",
        "from sklearn.model_selection import train_test_split\n",
        "X_train, X_test, y_train, y_test = train_test_split(X_total, y_total, test_size = 0.3, random_state = 0)"
      ]
    },
    {
      "cell_type": "markdown",
      "metadata": {
        "id": "AHHCaPeof5Xn"
      },
      "source": [
        "---------------"
      ]
    },
    {
      "cell_type": "markdown",
      "metadata": {
        "id": "bwXsYvw8f5Xo"
      },
      "source": [
        "# 1. DNN as nonlinear dimensionality reduction method (50 Points)\n",
        "\n",
        "Autoencoder is an unsupervised artificial neural network that compresses the data to lower dimension and then reconstructs the input back. Autoencoder finds the representation of the data in a lower dimension by focusing more on the important features getting rid of noise and redundancy. It's based on Encoder-Decoder architecture, where encoder encodes the high-dimensional data to lower-dimension and decoder takes the lower-dimensional data and tries to reconstruct the original high-dimensional data.\n",
        "\n",
        "![picture](https://drive.google.com/uc?id=1RTZwx4xL6zFV_nUENBgWlFKLKldPoyI-)\n",
        "\n",
        "In the above Diagram, X is the input data, z is the lower-dimension representation of input X and X’ is the reconstructed input data. The mapping of higher to lower dimensions can be linear or non-linear depending on the choice of the activation function.\n",
        "\n",
        "In this part you're gonna implement an autoencoder using Keras framework as dimensionally reduction module as explained [here](https://blog.keras.io/building-autoencoders-in-keras.html).\n",
        "(It would be ok to use PyTorch as well.)\n",
        "Reduce the dimension of the data to 2 dimensions and visualize the low-dimensional data."
      ]
    },
    {
      "cell_type": "code",
      "execution_count": 2,
      "metadata": {
        "id": "moGEgpV999cl"
      },
      "outputs": [],
      "source": [
        "# import necessary libraries\n",
        "\n",
        "import matplotlib.pyplot as plt\n",
        "from keras import layers\n",
        "from keras.models import Sequential"
      ]
    },
    {
      "cell_type": "code",
      "execution_count": 3,
      "metadata": {
        "id": "ieSTEpo4f5Xs"
      },
      "outputs": [],
      "source": [
        "# define layers (25 Points)\n",
        "\n",
        "endoded_layers, decoded_layers = Sequential(), Sequential()\n",
        "endoded_layers.add(layers.BatchNormalization())\n",
        "decoded_layers.add(layers.BatchNormalization())\n",
        "\n",
        "endoded_layers.add(layers.Dense(10, activation='relu', input_shape=(20,)))\n",
        "endoded_layers.add(layers.Dense(2, activation='relu'))\n",
        "\n",
        "decoded_layers.add(layers.Dense(10, activation='sigmoid', input_shape=(2,)))\n",
        "decoded_layers.add(layers.Dense(20, activation='sigmoid'))\n",
        "\n",
        "autoencoder_layers = Sequential([endoded_layers, decoded_layers])"
      ]
    },
    {
      "cell_type": "code",
      "execution_count": 11,
      "metadata": {
        "colab": {
          "base_uri": "https://localhost:8080/"
        },
        "id": "tsrJzb9Df5Xu",
        "outputId": "3ed7483c-5981-4735-f2e1-60733ced6245"
      },
      "outputs": [
        {
          "output_type": "stream",
          "name": "stdout",
          "text": [
            "Epoch 1/25\n",
            "119/119 [==============================] - 1s 5ms/step - loss: 0.4927 - val_loss: 0.4909\n",
            "Epoch 2/25\n",
            "119/119 [==============================] - 0s 3ms/step - loss: 0.4932 - val_loss: 0.4903\n",
            "Epoch 3/25\n",
            "119/119 [==============================] - 0s 4ms/step - loss: 0.4925 - val_loss: 0.4900\n",
            "Epoch 4/25\n",
            "119/119 [==============================] - 0s 3ms/step - loss: 0.4928 - val_loss: 0.4898\n",
            "Epoch 5/25\n",
            "119/119 [==============================] - 0s 4ms/step - loss: 0.4925 - val_loss: 0.4895\n",
            "Epoch 6/25\n",
            "119/119 [==============================] - 0s 3ms/step - loss: 0.4912 - val_loss: 0.4893\n",
            "Epoch 7/25\n",
            "119/119 [==============================] - 0s 3ms/step - loss: 0.4915 - val_loss: 0.4891\n",
            "Epoch 8/25\n",
            "119/119 [==============================] - 0s 4ms/step - loss: 0.4917 - val_loss: 0.4885\n",
            "Epoch 9/25\n",
            "119/119 [==============================] - 0s 4ms/step - loss: 0.4915 - val_loss: 0.4883\n",
            "Epoch 10/25\n",
            "119/119 [==============================] - 0s 3ms/step - loss: 0.4906 - val_loss: 0.4891\n",
            "Epoch 11/25\n",
            "119/119 [==============================] - 0s 4ms/step - loss: 0.4914 - val_loss: 0.4877\n",
            "Epoch 12/25\n",
            "119/119 [==============================] - 0s 4ms/step - loss: 0.4906 - val_loss: 0.4874\n",
            "Epoch 13/25\n",
            "119/119 [==============================] - 0s 3ms/step - loss: 0.4900 - val_loss: 0.4871\n",
            "Epoch 14/25\n",
            "119/119 [==============================] - 0s 4ms/step - loss: 0.4897 - val_loss: 0.4869\n",
            "Epoch 15/25\n",
            "119/119 [==============================] - 0s 4ms/step - loss: 0.4901 - val_loss: 0.4862\n",
            "Epoch 16/25\n",
            "119/119 [==============================] - 0s 3ms/step - loss: 0.4892 - val_loss: 0.4862\n",
            "Epoch 17/25\n",
            "119/119 [==============================] - 0s 4ms/step - loss: 0.4884 - val_loss: 0.4856\n",
            "Epoch 18/25\n",
            "119/119 [==============================] - 0s 4ms/step - loss: 0.4889 - val_loss: 0.4853\n",
            "Epoch 19/25\n",
            "119/119 [==============================] - 0s 4ms/step - loss: 0.4885 - val_loss: 0.4849\n",
            "Epoch 20/25\n",
            "119/119 [==============================] - 0s 3ms/step - loss: 0.4876 - val_loss: 0.4844\n",
            "Epoch 21/25\n",
            "119/119 [==============================] - 0s 4ms/step - loss: 0.4879 - val_loss: 0.4846\n",
            "Epoch 22/25\n",
            "119/119 [==============================] - 0s 3ms/step - loss: 0.4884 - val_loss: 0.4840\n",
            "Epoch 23/25\n",
            "119/119 [==============================] - 0s 3ms/step - loss: 0.4877 - val_loss: 0.4840\n",
            "Epoch 24/25\n",
            "119/119 [==============================] - 0s 4ms/step - loss: 0.4867 - val_loss: 0.4830\n",
            "Epoch 25/25\n",
            "119/119 [==============================] - 0s 4ms/step - loss: 0.4876 - val_loss: 0.4827\n"
          ]
        },
        {
          "output_type": "execute_result",
          "data": {
            "text/plain": [
              "<keras.callbacks.History at 0x7f1dfec37d60>"
            ]
          },
          "metadata": {},
          "execution_count": 11
        }
      ],
      "source": [
        "# train the model and reduce the dimension of the data (15 Points)\n",
        "\n",
        "autoencoder_layers.compile(optimizer='adam', loss='binary_crossentropy')\n",
        "autoencoder_layers.fit(X_train, X_train, epochs=25, batch_size=32, shuffle=True, validation_data=(X_test, X_test))"
      ]
    },
    {
      "cell_type": "code",
      "execution_count": 16,
      "metadata": {
        "colab": {
          "base_uri": "https://localhost:8080/",
          "height": 282
        },
        "id": "tL5RBRPlf5Xv",
        "outputId": "5fcc3773-45f7-4f64-e887-7cdf3bb3c753"
      },
      "outputs": [
        {
          "output_type": "stream",
          "name": "stdout",
          "text": [
            "51/51 [==============================] - 0s 1ms/step\n"
          ]
        },
        {
          "output_type": "display_data",
          "data": {
            "text/plain": [
              "<Figure size 432x288 with 1 Axes>"
            ],
            "image/png": "[encoded data removed]"
          },
          "metadata": {
            "needs_background": "light"
          }
        }
      ],
      "source": [
        "# Plot the encoded data (10 Points)\n",
        "\n",
        "predicted_data = endoded_layers.predict(X_test)\n",
        "plt.scatter(predicted_data[:, 0], predicted_data[:, 1], c=y_test, label=y_test, alpha=0.5, marker='^')\n",
        "\n",
        "plt.show()"
      ]
    }
  ],
  "metadata": {
    "colab": {
      "provenance": []
    },
    "kernelspec": {
      "display_name": "Python 3 (ipykernel)",
      "language": "python",
      "name": "python3"
    },
    "language_info": {
      "codemirror_mode": {
        "name": "ipython",
        "version": 3
      },
      "file_extension": ".py",
      "mimetype": "text/x-python",
      "name": "python",
      "nbconvert_exporter": "python",
      "pygments_lexer": "ipython3",
      "version": "3.9.7"
    },
    "vscode": {
      "interpreter": {
        "hash": "81794d4967e6c3204c66dcd87b604927b115b27c00565d3d43f05ba2f3a2cb0d"
      }
    }
  },
  "nbformat": 4,
  "nbformat_minor": 0
}