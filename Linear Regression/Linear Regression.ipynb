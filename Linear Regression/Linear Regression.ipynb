{
  "cells": [
    {
      "cell_type": "markdown",
      "id": "16adc323",
      "metadata": {
        "id": "16adc323"
      },
      "source": [
        "<br><font face=\"Times New Roman\" size=5><div dir=ltr align=center>\n",
        "<font color=blue size=8>\n",
        "    Introduction to Machine Learning <br>\n",
        "<font color=red size=5>\n",
        "    Sharif University of Technology - Computer Engineering Department <br>\n",
        "    Fall 2022<br> <br>\n",
        "<font color=black size=6>\n",
        "    Homework 2: Practical - Linear Regression\n",
        "    </div>\n",
        "<br><br>\n",
        "<font size=4>\n",
        "   **Name**: <br>\n",
        "   **Student ID**: <br> <br>"
      ]
    },
    {
      "cell_type": "markdown",
      "id": "2585264a",
      "metadata": {
        "id": "2585264a"
      },
      "source": [
        "<font face=\"Times New Roman\" size=4><div dir=ltr>\n",
        "# Problem 1: Linear Regression Model (40 + 30 optional points)\n",
        "According to <a href=\"https://github.com/asharifiz/Introduction_to_Machine_Learning/blob/main/Jupyter_Notebooks/Chapter_02_Classical_Models/Linear%20regression.ipynb\"><font face=\"Roboto\">Linear Regression Notebook</font></a>, train a linear regression model on an arbitrary dataset. Explain your chosen dataset and split your data into train and test sets, then predict values for the test set using your trained model. Try to find the best hyperparameters for your model. (Using Lasso Regression, Ridge Regression or Elastic Net and comparing them will have extra optional points)\n",
        "<br> Explain each step of your workflow."
      ]
    },
    {
      "cell_type": "markdown",
      "source": [
        "<div dir=\"rtl\">\n",
        "در ابتدا کتابخانه‌های مورد نیاز برای پیاده‌سازی \n",
        "linear regression \n",
        "را \n",
        "import \n",
        "می‌کنیم.\n",
        "</div>"
      ],
      "metadata": {
        "id": "tOoVa8A_oeQr"
      },
      "id": "tOoVa8A_oeQr"
    },
    {
      "cell_type": "code",
      "execution_count": null,
      "id": "387d3a07",
      "metadata": {
        "id": "387d3a07"
      },
      "outputs": [],
      "source": [
        "import numpy as np\n",
        "import pandas as pd\n",
        "from sklearn import datasets\n",
        "from sklearn import linear_model\n",
        "from sklearn.metrics import mean_squared_error\n",
        "from sklearn.model_selection import train_test_split\n",
        "from sklearn.linear_model import Ridge, ElasticNet"
      ]
    },
    {
      "cell_type": "markdown",
      "source": [
        "<div dir=\"rtl\">\n",
        "برای دیتاست این بخش از دیتاست \n",
        "diabetes \n",
        "از کتابخانه \n",
        "sklearn \n",
        "که مخصوص \n",
        "regression \n",
        "است استفاده می‌کنیم. سپس از دودسته برای داده‌های تست و ترین استفاده می‌کنیم به طوری که ۳۰ درصد دیتاها مخصوص تست باشد.\n",
        "</div>"
      ],
      "metadata": {
        "id": "64sUD_husRUz"
      },
      "id": "64sUD_husRUz"
    },
    {
      "cell_type": "code",
      "source": [
        "dataset = datasets.load_diabetes(as_frame=True)\n",
        "Y = pd.DataFrame(dataset['target']).to_numpy()\n",
        "X = pd.DataFrame(dataset['data']).to_numpy()\n",
        "X_train, X_test, Y_train, Y_test = train_test_split(X, Y, test_size=0.3)"
      ],
      "metadata": {
        "id": "gTQFkKansniE"
      },
      "id": "gTQFkKansniE",
      "execution_count": null,
      "outputs": []
    },
    {
      "cell_type": "markdown",
      "source": [
        "<div dir=\"rtl\">\n",
        "حال برای بهینه کردن هایپرپارامترهای \n",
        "linear regression \n",
        "مورد نظرمان از سه روش ذکرشده استفاده می‌کنیم. در ابتدا برای \n",
        "Lasso regression \n",
        "داریم:‌\n",
        "</div>"
      ],
      "metadata": {
        "id": "n-0c3xe2xO6m"
      },
      "id": "n-0c3xe2xO6m"
    },
    {
      "cell_type": "code",
      "source": [
        "clf_lasso = linear_model.Lasso(alpha=0.2)\n",
        "clf_lasso.fit(X_train, Y_train)\n",
        "clf_score_lasso = clf_lasso.score(X_test, Y_test)\n",
        "print(\"The score for Lasso Regression: %.4f\" % clf_score_lasso)"
      ],
      "metadata": {
        "colab": {
          "base_uri": "https://localhost:8080/"
        },
        "id": "BwQ75SjExtjd",
        "outputId": "c6d724a8-5bdd-418a-e876-9e73a5459d12"
      },
      "id": "BwQ75SjExtjd",
      "execution_count": null,
      "outputs": [
        {
          "output_type": "stream",
          "name": "stdout",
          "text": [
            "The score for Lasso Regression: 0.4633\n"
          ]
        }
      ]
    },
    {
      "cell_type": "markdown",
      "source": [
        "<div dir=\"rtl\">\n",
        "حال برای روش \n",
        "Ridge Regression \n",
        "خواهیم داشت: \n",
        "</div>"
      ],
      "metadata": {
        "id": "WPY5C8CwzTvX"
      },
      "id": "WPY5C8CwzTvX"
    },
    {
      "cell_type": "code",
      "source": [
        "clf_ridge = Ridge(alpha=0.2)\n",
        "clf_ridge.fit(X_train, Y_train)\n",
        "clf_score_ridge = clf_ridge.score(X_test, Y_test)\n",
        "print(\"The score for Ridge Regression: %.4f\" % clf_score_ridge)"
      ],
      "metadata": {
        "colab": {
          "base_uri": "https://localhost:8080/"
        },
        "id": "g6B_IJgWzqKd",
        "outputId": "010fc689-39ef-46a4-d318-098ec1f3a1cb"
      },
      "id": "g6B_IJgWzqKd",
      "execution_count": null,
      "outputs": [
        {
          "output_type": "stream",
          "name": "stdout",
          "text": [
            "The score for Ridge Regression: 0.4765\n"
          ]
        }
      ]
    },
    {
      "cell_type": "markdown",
      "source": [
        "<div dir=\"rtl\">\n",
        "حال برای روش \n",
        "Elastic Net \n",
        "داریم:\n",
        "</div>"
      ],
      "metadata": {
        "id": "bUHtFZM_0yW3"
      },
      "id": "bUHtFZM_0yW3"
    },
    {
      "cell_type": "code",
      "source": [
        "clf_en = ElasticNet(alpha=0.2, l1_ratio=0.98, random_state=0)\n",
        "clf_en.fit(X_train, Y_train)\n",
        "clf_score_en = clf_en.score(X_test, Y_test)\n",
        "print(\"The score for Elastic Net: %.4f\" % clf_score_en)"
      ],
      "metadata": {
        "colab": {
          "base_uri": "https://localhost:8080/"
        },
        "id": "T0G-0wmx06XG",
        "outputId": "ed161fd3-0e68-42ab-c38b-75494abbd404"
      },
      "id": "T0G-0wmx06XG",
      "execution_count": null,
      "outputs": [
        {
          "output_type": "stream",
          "name": "stdout",
          "text": [
            "The score for Elastic Net: 0.3654\n"
          ]
        }
      ]
    },
    {
      "cell_type": "markdown",
      "source": [
        "<div dir=\"rtl\">\n",
        "همانگونه که از نتایج به دست آمده مشخص است در این دیتاست مدل \n",
        "Ridge Regression \n",
        "دقت بالاتری نسبت به \n",
        "Lasso Regression \n",
        "داشته است. همانطور که می‌دانیم در روش \n",
        "Ridge \n",
        "توان یک ضرایب هایپرپارامترها اهمیت داشته در صورتی که در روش \n",
        "Lasso \n",
        "توان دو ضرایب اهمیت داشته، به طوری که ضرایب ارزش یکسانی نداشته باشند؛ این باعث می‌شود که بسته به دیتاست دقت یکی از این دو مدل بیشتر باشد.\n",
        "<br>\n",
        "اما ماجرا برای \n",
        "Elastic Net \n",
        "کمی متفاوت است. می‌دانیم که این روش ترکیبی از دو روش بالا بوده تا بهترین ترکیب را برای هر دیتاست پیدا کند که این با ضریب \n",
        "l1_ratio \n",
        "مشخص می‌شود، هرچه این عدد به یک نزدیک‌تر باشد روش مدل شبیه \n",
        "Ridg Regression \n",
        "بوده و هرچه به صفر نزدیک‌تر باشد برعکس این ماجراست، شاید در این روش توان پردازشی بیشتری نیاز داشته باشیم اما به طور کلی به مدلی با دقت بالاتر خواهیم رسید. حال برای ضرایب این سه مدل خواهیم داشت: \n",
        "</div>"
      ],
      "metadata": {
        "id": "-i6A4SJ43GQP"
      },
      "id": "-i6A4SJ43GQP"
    },
    {
      "cell_type": "code",
      "source": [
        "print(\"Hyperparameter's of Lasso Regression:\")\n",
        "for i in range(10):\n",
        "  print(\"%.3f\" % clf_lasso.coef_[i], end=\", \")"
      ],
      "metadata": {
        "colab": {
          "base_uri": "https://localhost:8080/"
        },
        "id": "-ylUe22Z-E-Z",
        "outputId": "f24da054-b8c4-4b5f-e3a3-ce5a45304fab"
      },
      "id": "-ylUe22Z-E-Z",
      "execution_count": null,
      "outputs": [
        {
          "output_type": "stream",
          "name": "stdout",
          "text": [
            "Hyperparameter's of Lasso Regression:\n",
            "-0.000, -32.070, 526.579, 215.016, -0.000, -31.329, -87.657, 0.000, 457.114, 90.190, "
          ]
        }
      ]
    },
    {
      "cell_type": "code",
      "source": [
        "print(\"Hyperparameter's of Ridge Regression:\")\n",
        "for i in range(10):\n",
        "  print(\"%.3f\" % clf_ridge.coef_[0][i], end=\", \")"
      ],
      "metadata": {
        "colab": {
          "base_uri": "https://localhost:8080/"
        },
        "id": "rx9CADRF_iHe",
        "outputId": "72de8eaf-a237-45d8-e62d-8fd510f70d07"
      },
      "id": "rx9CADRF_iHe",
      "execution_count": null,
      "outputs": [
        {
          "output_type": "stream",
          "name": "stdout",
          "text": [
            "Hyperparameter's of Ridge Regression:\n",
            "-13.116, -132.272, 440.542, 271.955, -24.877, -110.835, -139.158, 99.922, 394.107, 160.816, "
          ]
        }
      ]
    },
    {
      "cell_type": "code",
      "source": [
        "print(\"Hyperparameter's of Elastic Net:\")\n",
        "for i in range(10):\n",
        "  print(\"%.3f\" % clf_en.coef_[-i], end=\", \")"
      ],
      "metadata": {
        "colab": {
          "base_uri": "https://localhost:8080/"
        },
        "id": "Y3rRqKZcBWDZ",
        "outputId": "dcdbcf71-c051-4bdd-902c-919b31d478e1"
      },
      "id": "Y3rRqKZcBWDZ",
      "execution_count": null,
      "outputs": [
        {
          "output_type": "stream",
          "name": "stdout",
          "text": [
            "Hyperparameter's of Elastic Net:\n",
            "2.324, 112.251, 206.888, 67.338, -82.442, -0.000, 0.000, 146.060, 222.920, -0.000, "
          ]
        }
      ]
    },
    {
      "cell_type": "markdown",
      "source": [
        "<div dir=\"rtl\">\n",
        "از بررسی ضرایب می‌توان پی‌برد که در روش \n",
        "Lasso \n",
        "ضرایب زیادی به صورت صفر ست شده‌اند و این اتفاق در مدل \n",
        "Ridge \n",
        "رخ نداده است. همیچنین به طور کلی ضرایب مدل \n",
        "Elastic Net \n",
        "کوچکتر بوده که از \n",
        "overfit \n",
        "شدن دیتا جلوگیری می‌کند.\n",
        "</div>"
      ],
      "metadata": {
        "id": "4RmBuRYjCCMx"
      },
      "id": "4RmBuRYjCCMx"
    }
  ],
  "metadata": {
    "kernelspec": {
      "display_name": "Python 3 (ipykernel)",
      "language": "python",
      "name": "python3"
    },
    "language_info": {
      "codemirror_mode": {
        "name": "ipython",
        "version": 3
      },
      "file_extension": ".py",
      "mimetype": "text/x-python",
      "name": "python",
      "nbconvert_exporter": "python",
      "pygments_lexer": "ipython3",
      "version": "3.9.7"
    },
    "colab": {
      "provenance": [],
      "collapsed_sections": []
    }
  },
  "nbformat": 4,
  "nbformat_minor": 5
}