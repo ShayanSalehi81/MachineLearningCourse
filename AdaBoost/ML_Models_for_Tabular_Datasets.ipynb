{
  "cells": [
    {
      "cell_type": "markdown",
      "id": "52d3a943",
      "metadata": {
        "id": "52d3a943"
      },
      "source": [
        "<img src='http://www-scf.usc.edu/~ghasemig/images/sharif.png' alt=\"SUT logo\" width=200 height=200 align=left class=\"saturate\" >\n",
        "\n",
        "<br>\n",
        "<font face=\"Times New Roman\">\n",
        "<div dir=ltr align=center>\n",
        "<font color=0F5298 size=7>\n",
        "    Introduction to Machine Learning <br>\n",
        "<font color=2565AE size=5>\n",
        "    Computer Engineering Department <br>\n",
        "    Fall 2022<br>\n",
        "<font color=3C99D size=5>\n",
        "    Homework 3: Practical - ML Models for Tabular Datasets <br>\n",
        "<font color=696880 size=4>\n",
        "    Niloufar Razani \n",
        "    \n",
        "    \n",
        "____"
      ]
    },
    {
      "cell_type": "markdown",
      "id": "afcf1f24",
      "metadata": {
        "id": "afcf1f24"
      },
      "source": [
        "### Full Name : Shayan Salehi\n",
        "### Student Number : 99105561\n",
        "___"
      ]
    },
    {
      "cell_type": "markdown",
      "id": "8c097381",
      "metadata": {
        "id": "8c097381"
      },
      "source": [
        "<font face=\"Times New Roman\" size=4><div dir=ltr>\n",
        "In this homework we are going to implement Adaboost algorithm from scratch. Please read this chapter's <a href=\"https://github.com/asharifiz/Introduction_to_Machine_Learning/tree/main/Jupyter_Notebooks/Chapter_04_Tabular_Data_Models\"><font face=\"Roboto\">notebook</font></a> and then complete the #TODO sections. <br>\n",
        "We will use the heart_disease.csv dataset, which you can see more details about in this <a href=\"https://www.kaggle.com/datasets/johnsmith88/heart-disease-dataset?resource=download&select=heart.csv\"><font face=\"Roboto\">Link</font></a>.\n",
        "___"
      ]
    },
    {
      "cell_type": "code",
      "execution_count": 36,
      "id": "1a687a71",
      "metadata": {
        "id": "1a687a71"
      },
      "outputs": [],
      "source": [
        "import numpy as np\n",
        "import pandas as pd\n",
        "import seaborn as sns\n",
        "import matplotlib.pyplot as plt\n",
        "from sklearn.model_selection import train_test_split\n",
        "from sklearn.tree import DecisionTreeClassifier\n",
        "from sklearn.metrics import accuracy_score, precision_score, recall_score, f1_score\n",
        "from sklearn.ensemble import AdaBoostClassifier\n",
        "from sklearn.metrics import zero_one_loss"
      ]
    },
    {
      "cell_type": "markdown",
      "id": "3b152c1e",
      "metadata": {
        "id": "3b152c1e"
      },
      "source": [
        "### Data Prepration (10 points) \n",
        "1.   Load Dataset\n",
        "2.   Separate target feaure\n",
        "3.   Change class labels to 1 and -1\n",
        "4.   Do train-test split"
      ]
    },
    {
      "cell_type": "markdown",
      "source": [],
      "metadata": {
        "id": "iodp6-vB-B14"
      },
      "id": "iodp6-vB-B14"
    },
    {
      "cell_type": "code",
      "execution_count": 31,
      "id": "159d3986",
      "metadata": {
        "id": "159d3986"
      },
      "outputs": [],
      "source": [
        "dataset = pd.read_csv(\"heart_disease.csv\")\n",
        "dataset['target'] = dataset['target'] * 2 - 1\n",
        "x_train, x_test, y_train, y_test = train_test_split(dataset.drop(['target'], axis = 1).to_numpy(), dataset['target'].to_numpy(), test_size = 0.3, random_state = 42)"
      ]
    },
    {
      "cell_type": "markdown",
      "id": "695a1fc7",
      "metadata": {
        "id": "695a1fc7"
      },
      "source": [
        "### Adaboost Algorithm Implementation (40 points)"
      ]
    },
    {
      "cell_type": "code",
      "execution_count": 32,
      "id": "95f76156",
      "metadata": {
        "id": "95f76156"
      },
      "outputs": [],
      "source": [
        "def calculate_error(y, y_pred, w):\n",
        "    sum = 0\n",
        "    for i in range(len(y)):\n",
        "        if(y[i] != y_pred[i]): sum += w[i]\n",
        "    return sum\n",
        "\n",
        "def calculate_alpha(error):\n",
        "    return (np.log((1 - error) / error) * 0.5)\n",
        "    \n",
        "def update_weights(w, alpha, y, y_pred):\n",
        "    result = w\n",
        "    cons = (np.not_equal(y, y_pred)).astype(int)\n",
        "    result *= np.exp(alpha * cons)\n",
        "    return result\n",
        "      \n",
        "class AdaBoost:\n",
        "    \n",
        "    def __init__(self):\n",
        "        self.alphas = []\n",
        "        self.G_M = []\n",
        "        self.training_errors = []\n",
        "        self.index_x = dataset.drop(['target'], axis = 1).to_numpy()\n",
        "        self.index_y = dataset['target'].to_numpy()\n",
        "\n",
        "    def fit(self, X, y, M = 100):\n",
        "        \n",
        "        self.alphas = [] \n",
        "        self.training_errors = []\n",
        "        self.M = M\n",
        "\n",
        "        for m in range(0, M):\n",
        "            if m == 0:\n",
        "                w = [(1 / len(X)) for i in range(len(X))]\n",
        "                 \n",
        "            else:\n",
        "                w = [float(i) / sum(w) for i in w]\n",
        "\n",
        "            \n",
        "            decision_tree = DecisionTreeClassifier(max_depth = 1)\n",
        "            decision_tree.fit(X, y, sample_weight = w)\n",
        "            prediction = decision_tree.predict(X)\n",
        "            self.G_M.append(decision_tree)\n",
        "\n",
        "            error = calculate_error(y, prediction, w)\n",
        "            self.training_errors.append(error)\n",
        "            alpha = calculate_alpha(error)\n",
        "            self.alphas.append(alpha)\n",
        "            w = update_weights(w, alpha, y, prediction)\n",
        "\n",
        "    def predict(self, X):\n",
        "\n",
        "        weak_preds = pd.DataFrame(index = range(len(X)), columns = range(self.M)) \n",
        "\n",
        "        for m in range(self.M):\n",
        "            y_pred_m = self.G_M[m].predict(X) * self.alphas[m]\n",
        "            weak_preds.iloc[:,m] = y_pred_m\n",
        "\n",
        "        y_pred = (1 * np.sign(weak_preds.T.sum())).astype(int)\n",
        "\n",
        "        return y_pred"
      ]
    },
    {
      "cell_type": "markdown",
      "id": "f27f8987",
      "metadata": {
        "id": "f27f8987"
      },
      "source": [
        "### Training and Evaluation (20 points)"
      ]
    },
    {
      "cell_type": "code",
      "execution_count": 33,
      "id": "2986c7a1",
      "metadata": {
        "colab": {
          "base_uri": "https://localhost:8080/"
        },
        "id": "2986c7a1",
        "outputId": "da82984a-02de-4d5e-b10d-0c4666d0198e"
      },
      "outputs": [
        {
          "output_type": "stream",
          "name": "stdout",
          "text": [
            "The accuracy of the decision model is: 0.8246753246753247\n",
            "The presicion of the decision model is: 0.7987421383647799\n",
            "The recall of the decision model is: 0.8523489932885906\n",
            "The f1-score of the decision model is: 0.8246753246753248\n"
          ]
        }
      ],
      "source": [
        "decision_model = AdaBoost()\n",
        "decision_model.fit(x_train, y_train)\n",
        "prediction = decision_model.predict(x_test)\n",
        "\n",
        "print(\"The accuracy of the decision model is: \", end = \"\")\n",
        "print(accuracy_score(y_test, prediction));\n",
        "print(\"The presicion of the decision model is: \", end = \"\")\n",
        "print(precision_score(y_test, prediction));\n",
        "print(\"The recall of the decision model is: \", end = \"\")\n",
        "print(recall_score(y_test, prediction));\n",
        "print(\"The f1-score of the decision model is: \", end = \"\")\n",
        "print(f1_score(y_test, prediction));"
      ]
    },
    {
      "cell_type": "code",
      "execution_count": 34,
      "id": "39bb9216",
      "metadata": {
        "colab": {
          "base_uri": "https://localhost:8080/"
        },
        "id": "39bb9216",
        "outputId": "e1b7bc1e-5063-4c64-ee32-60aa5a809394"
      },
      "outputs": [
        {
          "output_type": "stream",
          "name": "stdout",
          "text": [
            "The accuracy of the adaboost model is: 0.8961038961038961\n",
            "The presicion of the adaboost model is: 0.903448275862069\n",
            "The recall of the adaboost model is: 0.8791946308724832\n",
            "The f1-score of the adaboost model is: 0.891156462585034\n"
          ]
        }
      ],
      "source": [
        "adaboost_model = AdaBoostClassifier(n_estimators = 100, random_state = 0)\n",
        "adaboost_model.fit(x_train, y_train)\n",
        "adaboost_model_prediction = adaboost_model.predict(x_test)\n",
        "\n",
        "print(\"The accuracy of the adaboost model is: \", end = \"\")\n",
        "print(accuracy_score(y_test, adaboost_model_prediction));\n",
        "print(\"The presicion of the adaboost model is: \", end = \"\")\n",
        "print(precision_score(y_test, adaboost_model_prediction));\n",
        "print(\"The recall of the adaboost model is: \", end = \"\")\n",
        "print(recall_score(y_test, adaboost_model_prediction));\n",
        "print(\"The f1-score of the adaboost model is: \", end = \"\")\n",
        "print(f1_score(y_test, adaboost_model_prediction));"
      ]
    },
    {
      "cell_type": "markdown",
      "id": "e8fdcb6d",
      "metadata": {
        "id": "e8fdcb6d"
      },
      "source": [
        "### Early Stopping (15 points)"
      ]
    },
    {
      "cell_type": "code",
      "execution_count": 39,
      "id": "ac86c294",
      "metadata": {
        "id": "ac86c294"
      },
      "outputs": [],
      "source": [
        "predicted_errors = []\n",
        "estimator_counter = np.arange(5, 350, 5)\n",
        "for number in estimator_counter:\n",
        "    adaboost_model = AdaBoostClassifier(n_estimators = number)\n",
        "    adaboost_model.fit(x_train, y_train)\n",
        "    predicted_errors.append(zero_one_loss(y_test, adaboost_model.predict(x_test)))"
      ]
    },
    {
      "cell_type": "code",
      "execution_count": 43,
      "id": "d6e06fea",
      "metadata": {
        "colab": {
          "base_uri": "https://localhost:8080/",
          "height": 241
        },
        "id": "d6e06fea",
        "outputId": "e605cff6-fe10-431f-8347-79fd538c7a95"
      },
      "outputs": [
        {
          "output_type": "display_data",
          "data": {
            "text/plain": [
              "<Figure size 648x216 with 1 Axes>"
            ],
            "image/png": "[encoded data removed]"
          },
          "metadata": {
            "needs_background": "light"
          }
        }
      ],
      "source": [
        "plt.figure(figsize=(9, 3))\n",
        "plt.plot(estimator_counter , predicted_errors, color = \"red\")\n",
        "plt.title('Validation Error VS Number of Estimators figure')\n",
        "plt.ylabel('Validation Error')\n",
        "plt.xlabel('Number of Estimators')\n",
        "plt.show()"
      ]
    },
    {
      "cell_type": "code",
      "execution_count": 44,
      "id": "cdfac096",
      "metadata": {
        "colab": {
          "base_uri": "https://localhost:8080/"
        },
        "id": "cdfac096",
        "outputId": "387404ff-5cd1-4859-c046-5194120bb254"
      },
      "outputs": [
        {
          "output_type": "stream",
          "name": "stdout",
          "text": [
            "The best number for estimators is: 300\n",
            "The minimum value for validation error is: 0.07467532467532467\n"
          ]
        }
      ],
      "source": [
        "index = np.argmin(predicted_errors)\n",
        "print(\"The best number for estimators is: \", end = \"\");\n",
        "print(estimator_counter[np.argmin(predicted_errors)]);\n",
        "print(\"The minimum value for validation error is: \", end = \"\");\n",
        "print(predicted_errors[np.argmin(predicted_errors)]);"
      ]
    },
    {
      "cell_type": "markdown",
      "id": "ec46a972",
      "metadata": {
        "id": "ec46a972"
      },
      "source": [
        "### Weighted Error (10 points)"
      ]
    },
    {
      "cell_type": "code",
      "execution_count": 46,
      "id": "7471664f",
      "metadata": {
        "colab": {
          "base_uri": "https://localhost:8080/",
          "height": 241
        },
        "id": "7471664f",
        "outputId": "a6bf0ac7-322b-4e69-dd13-98668d9de74f"
      },
      "outputs": [
        {
          "output_type": "display_data",
          "data": {
            "text/plain": [
              "<Figure size 648x216 with 1 Axes>"
            ],
            "image/png": "[encoded data removed]"
          },
          "metadata": {
            "needs_background": "light"
          }
        }
      ],
      "source": [
        "adaboost_classifier = AdaBoost()\n",
        "adaboost_classifier.fit(x_train, y_train)\n",
        "train_errors = adaboost_classifier.training_errors\n",
        "estimator_counter = np.arange(1, 101)\n",
        "\n",
        "plt.figure(figsize=(9, 3))\n",
        "plt.plot(estimator_counter , train_errors, color = \"green\")\n",
        "plt.title('Weighted Training Error VS Number of Estimators figure')\n",
        "plt.ylabel('Weighted Training Error')\n",
        "plt.xlabel('Number of Estimators')\n",
        "plt.show()"
      ]
    },
    {
      "cell_type": "markdown",
      "id": "22f513e8",
      "metadata": {
        "id": "22f513e8"
      },
      "source": [
        "### Question : Why does the weighted error tend to increase as the number of estimators increase? (5points)"
      ]
    },
    {
      "cell_type": "markdown",
      "source": [
        "We know that from the beginning, every sample's weight is equal. That leads to better-trained models and lower calculated error. as the number of estimators increases, samples' weight tends to lean to a different amount. This translation of weights makes the training model prefer a few chosen samples with more weight than the whole data, leading to more prediction errors."
      ],
      "metadata": {
        "id": "OzO7NXPbNEXg"
      },
      "id": "OzO7NXPbNEXg"
    }
  ],
  "metadata": {
    "kernelspec": {
      "display_name": "Python 3 (ipykernel)",
      "language": "python",
      "name": "python3"
    },
    "language_info": {
      "codemirror_mode": {
        "name": "ipython",
        "version": 3
      },
      "file_extension": ".py",
      "mimetype": "text/x-python",
      "name": "python",
      "nbconvert_exporter": "python",
      "pygments_lexer": "ipython3",
      "version": "3.9.7"
    },
    "colab": {
      "provenance": []
    }
  },
  "nbformat": 4,
  "nbformat_minor": 5
}